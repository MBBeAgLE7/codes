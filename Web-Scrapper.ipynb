{
 "cells": [
  {
   "cell_type": "code",
   "execution_count": null,
   "id": "bee9be2c-fe85-4a74-a5de-1a97900cf7a9",
   "metadata": {},
   "outputs": [],
   "source": [
    "import requests\n",
    "from bs4 import BeautifulSoup as bs\n",
    "import pandas as pd"
   ]
  },
  {
   "cell_type": "code",
   "execution_count": null,
   "id": "f66953db-5e01-4245-83c3-1e5f1b86cea3",
   "metadata": {},
   "outputs": [],
   "source": [
    "link = \"https://www.amazon.in/Apple-iPhone-15-128-GB/dp/B0CHX1W1XY/?_encoding=UTF8&pd_rd_w=SJika&content-id=amzn1.sym.2c041c67-74d1-4898-8c3d-0d9bbd87e23d%3Aamzn1.symc.0cc9ad80-e1cf-4227-9adf-8a6e88938a11&pf_rd_p=2c041c67-74d1-4898-8c3d-0d9bbd87e23d&pf_rd_r=EJPSCW6TS6EG549R12D1&pd_rd_wg=xF6qP&pd_rd_r=604324a4-0990-4eae-b9ac-bda8089481dc&ref_=pd_hp_d_atf_ci_mcx_mr_ca_hp_atf_d&th=1\""
   ]
  },
  {
   "cell_type": "code",
   "execution_count": null,
   "id": "9f1ec34d-e597-4590-9ae2-753199d6668f",
   "metadata": {},
   "outputs": [],
   "source": [
    "page = requests.get(link)\n",
    "\n",
    "page\n"
   ]
  },
  {
   "cell_type": "code",
   "execution_count": null,
   "id": "8decafc8-8e4f-4b39-87f9-27c2102535f6",
   "metadata": {},
   "outputs": [],
   "source": [
    "soup = bs(page.content,'html.parser')\n",
    "\n",
    "print(soup.prettify())\n"
   ]
  },
  {
   "cell_type": "code",
   "execution_count": null,
   "id": "af1ee54d-9c1e-4819-9a86-889c45e9a85c",
   "metadata": {},
   "outputs": [],
   "source": [
    "names = soup.find_all('div',class_='a-expander-content reviewText review-text-content a-expander-partial-collapse-content')\n",
    "\n",
    "names\n"
   ]
  },
  {
   "cell_type": "code",
   "execution_count": null,
   "id": "80641598-3b12-4349-9b11-9fd43283954f",
   "metadata": {},
   "outputs": [],
   "source": [
    "cust_name = []\n",
    "\n",
    "for i in range(0,len(names)):\n",
    "\n",
    "    cust_name.append(names[i].get_text())\n",
    "\n",
    "cust_name"
   ]
  },
  {
   "cell_type": "code",
   "execution_count": null,
   "id": "acc568f0-8b99-4cb3-8748-f4a459022189",
   "metadata": {},
   "outputs": [],
   "source": [
    "df = pd.DataFrame()"
   ]
  },
  {
   "cell_type": "code",
   "execution_count": null,
   "id": "6e7f9f13-5a95-4576-8429-bcd0f4cfbdd8",
   "metadata": {},
   "outputs": [],
   "source": [
    "df['Review']=cust_name"
   ]
  },
  {
   "cell_type": "code",
   "execution_count": null,
   "id": "18355fb4-5121-40e1-8120-f1988c3ae3da",
   "metadata": {},
   "outputs": [],
   "source": [
    "df"
   ]
  },
  {
   "cell_type": "code",
   "execution_count": null,
   "id": "0b8be27c-6d7b-4dd5-96a3-50e7861c7751",
   "metadata": {},
   "outputs": [],
   "source": [
    "\n",
    "\n",
    "name = soup.find_all('span',class_='a-size-mini a-color-state a-text-bold')\n",
    "\n",
    "name"
   ]
  },
  {
   "cell_type": "code",
   "execution_count": null,
   "id": "0d8296b6-38df-4c23-a643-666b4b90cd4e",
   "metadata": {},
   "outputs": [],
   "source": [
    "cust_names = []\n",
    "\n",
    "for i in range(0,len(name)):\n",
    "\n",
    "    cust_names.append(name[i].get_text())\n",
    "\n",
    "cust_names"
   ]
  },
  {
   "cell_type": "code",
   "execution_count": null,
   "id": "05bc327f-dbe6-4855-9b6f-d9ac3fdec260",
   "metadata": {},
   "outputs": [],
   "source": [
    "df['Type']=cust_names\n",
    "df"
   ]
  },
  {
   "cell_type": "code",
   "execution_count": null,
   "id": "cd49f65f-66ec-41d9-878c-75eed0fe23d8",
   "metadata": {},
   "outputs": [],
   "source": []
  },
  {
   "cell_type": "code",
   "execution_count": null,
   "id": "b8d25069-23f7-4564-a71e-bc208857ffa0",
   "metadata": {},
   "outputs": [],
   "source": []
  },
  {
   "cell_type": "code",
   "execution_count": null,
   "id": "49416a8c",
   "metadata": {},
   "outputs": [],
   "source": []
  }
 ],
 "metadata": {
  "kernelspec": {
   "display_name": "Python 3",
   "language": "python",
   "name": "python3"
  },
  "language_info": {
   "codemirror_mode": {
    "name": "ipython",
    "version": 3
   },
   "file_extension": ".py",
   "mimetype": "text/x-python",
   "name": "python",
   "nbconvert_exporter": "python",
   "pygments_lexer": "ipython3",
   "version": "3.12.4"
  }
 },
 "nbformat": 4,
 "nbformat_minor": 5
}
